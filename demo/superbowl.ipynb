{
 "cells": [
  {
   "cell_type": "markdown",
   "metadata": {},
   "source": [
    "# MLOps with `vetiver`\n",
    "\n",
    "## Build a model\n",
    "Data scientists can still use the tools they are most comfortable with for the bulk of their workflow.\n",
    "\n",
    "![](images/ml_ops_cycle.png)"
   ]
  },
  {
   "cell_type": "code",
   "execution_count": 1,
   "metadata": {},
   "outputs": [],
   "source": [
    "import pandas as pd\n",
    "import numpy as np\n",
    "from sklearn import model_selection, preprocessing, metrics\n",
    "from sklearn.linear_model import LinearRegression\n",
    "from sklearn.ensemble import RandomForestRegressor\n",
    "\n",
    "import vetiver\n",
    "\n",
    "np.random.seed(500)"
   ]
  },
  {
   "cell_type": "code",
   "execution_count": 2,
   "metadata": {},
   "outputs": [
    {
     "data": {
      "text/html": [
       "<div>\n",
       "<style scoped>\n",
       "    .dataframe tbody tr th:only-of-type {\n",
       "        vertical-align: middle;\n",
       "    }\n",
       "\n",
       "    .dataframe tbody tr th {\n",
       "        vertical-align: top;\n",
       "    }\n",
       "\n",
       "    .dataframe thead th {\n",
       "        text-align: right;\n",
       "    }\n",
       "</style>\n",
       "<table border=\"1\" class=\"dataframe\">\n",
       "  <thead>\n",
       "    <tr style=\"text-align: right;\">\n",
       "      <th></th>\n",
       "      <th>ridership</th>\n",
       "      <th>Austin</th>\n",
       "      <th>Quincy_Wells</th>\n",
       "      <th>Belmont</th>\n",
       "      <th>Archer_35th</th>\n",
       "      <th>Oak_Park</th>\n",
       "      <th>Western</th>\n",
       "      <th>Clark_Lake</th>\n",
       "      <th>Clinton</th>\n",
       "      <th>Merchandise_Mart</th>\n",
       "      <th>...</th>\n",
       "      <th>Blackhawks_Away</th>\n",
       "      <th>Blackhawks_Home</th>\n",
       "      <th>Bulls_Away</th>\n",
       "      <th>Bulls_Home</th>\n",
       "      <th>Bears_Away</th>\n",
       "      <th>Bears_Home</th>\n",
       "      <th>WhiteSox_Away</th>\n",
       "      <th>WhiteSox_Home</th>\n",
       "      <th>Cubs_Away</th>\n",
       "      <th>Cubs_Home</th>\n",
       "    </tr>\n",
       "  </thead>\n",
       "  <tbody>\n",
       "    <tr>\n",
       "      <th>0</th>\n",
       "      <td>15.732</td>\n",
       "      <td>1.463</td>\n",
       "      <td>8.371</td>\n",
       "      <td>4.599</td>\n",
       "      <td>2.009</td>\n",
       "      <td>1.421</td>\n",
       "      <td>3.319</td>\n",
       "      <td>15.561</td>\n",
       "      <td>2.403</td>\n",
       "      <td>6.481</td>\n",
       "      <td>...</td>\n",
       "      <td>0</td>\n",
       "      <td>0</td>\n",
       "      <td>0</td>\n",
       "      <td>0</td>\n",
       "      <td>0</td>\n",
       "      <td>0</td>\n",
       "      <td>0</td>\n",
       "      <td>0</td>\n",
       "      <td>0</td>\n",
       "      <td>0</td>\n",
       "    </tr>\n",
       "    <tr>\n",
       "      <th>1</th>\n",
       "      <td>15.762</td>\n",
       "      <td>1.505</td>\n",
       "      <td>8.351</td>\n",
       "      <td>4.725</td>\n",
       "      <td>2.088</td>\n",
       "      <td>1.429</td>\n",
       "      <td>3.344</td>\n",
       "      <td>15.720</td>\n",
       "      <td>2.402</td>\n",
       "      <td>6.477</td>\n",
       "      <td>...</td>\n",
       "      <td>0</td>\n",
       "      <td>0</td>\n",
       "      <td>0</td>\n",
       "      <td>1</td>\n",
       "      <td>0</td>\n",
       "      <td>0</td>\n",
       "      <td>0</td>\n",
       "      <td>0</td>\n",
       "      <td>0</td>\n",
       "      <td>0</td>\n",
       "    </tr>\n",
       "    <tr>\n",
       "      <th>2</th>\n",
       "      <td>15.872</td>\n",
       "      <td>1.519</td>\n",
       "      <td>8.359</td>\n",
       "      <td>4.684</td>\n",
       "      <td>2.108</td>\n",
       "      <td>1.488</td>\n",
       "      <td>3.363</td>\n",
       "      <td>15.558</td>\n",
       "      <td>2.367</td>\n",
       "      <td>6.405</td>\n",
       "      <td>...</td>\n",
       "      <td>0</td>\n",
       "      <td>0</td>\n",
       "      <td>1</td>\n",
       "      <td>0</td>\n",
       "      <td>0</td>\n",
       "      <td>0</td>\n",
       "      <td>0</td>\n",
       "      <td>0</td>\n",
       "      <td>0</td>\n",
       "      <td>0</td>\n",
       "    </tr>\n",
       "    <tr>\n",
       "      <th>3</th>\n",
       "      <td>15.874</td>\n",
       "      <td>1.490</td>\n",
       "      <td>7.852</td>\n",
       "      <td>4.769</td>\n",
       "      <td>2.166</td>\n",
       "      <td>1.445</td>\n",
       "      <td>3.359</td>\n",
       "      <td>15.745</td>\n",
       "      <td>2.415</td>\n",
       "      <td>6.489</td>\n",
       "      <td>...</td>\n",
       "      <td>0</td>\n",
       "      <td>0</td>\n",
       "      <td>0</td>\n",
       "      <td>0</td>\n",
       "      <td>0</td>\n",
       "      <td>0</td>\n",
       "      <td>0</td>\n",
       "      <td>0</td>\n",
       "      <td>0</td>\n",
       "      <td>0</td>\n",
       "    </tr>\n",
       "    <tr>\n",
       "      <th>4</th>\n",
       "      <td>15.423</td>\n",
       "      <td>1.496</td>\n",
       "      <td>7.621</td>\n",
       "      <td>4.720</td>\n",
       "      <td>2.058</td>\n",
       "      <td>1.415</td>\n",
       "      <td>3.271</td>\n",
       "      <td>15.602</td>\n",
       "      <td>2.416</td>\n",
       "      <td>5.798</td>\n",
       "      <td>...</td>\n",
       "      <td>0</td>\n",
       "      <td>0</td>\n",
       "      <td>0</td>\n",
       "      <td>0</td>\n",
       "      <td>0</td>\n",
       "      <td>0</td>\n",
       "      <td>0</td>\n",
       "      <td>0</td>\n",
       "      <td>0</td>\n",
       "      <td>0</td>\n",
       "    </tr>\n",
       "    <tr>\n",
       "      <th>...</th>\n",
       "      <td>...</td>\n",
       "      <td>...</td>\n",
       "      <td>...</td>\n",
       "      <td>...</td>\n",
       "      <td>...</td>\n",
       "      <td>...</td>\n",
       "      <td>...</td>\n",
       "      <td>...</td>\n",
       "      <td>...</td>\n",
       "      <td>...</td>\n",
       "      <td>...</td>\n",
       "      <td>...</td>\n",
       "      <td>...</td>\n",
       "      <td>...</td>\n",
       "      <td>...</td>\n",
       "      <td>...</td>\n",
       "      <td>...</td>\n",
       "      <td>...</td>\n",
       "      <td>...</td>\n",
       "      <td>...</td>\n",
       "      <td>...</td>\n",
       "    </tr>\n",
       "    <tr>\n",
       "      <th>4995</th>\n",
       "      <td>19.546</td>\n",
       "      <td>2.305</td>\n",
       "      <td>8.105</td>\n",
       "      <td>5.953</td>\n",
       "      <td>3.302</td>\n",
       "      <td>2.033</td>\n",
       "      <td>5.076</td>\n",
       "      <td>20.632</td>\n",
       "      <td>4.193</td>\n",
       "      <td>7.107</td>\n",
       "      <td>...</td>\n",
       "      <td>0</td>\n",
       "      <td>0</td>\n",
       "      <td>0</td>\n",
       "      <td>0</td>\n",
       "      <td>0</td>\n",
       "      <td>0</td>\n",
       "      <td>1</td>\n",
       "      <td>1</td>\n",
       "      <td>1</td>\n",
       "      <td>1</td>\n",
       "    </tr>\n",
       "    <tr>\n",
       "      <th>4996</th>\n",
       "      <td>6.888</td>\n",
       "      <td>1.164</td>\n",
       "      <td>2.073</td>\n",
       "      <td>3.437</td>\n",
       "      <td>1.715</td>\n",
       "      <td>0.865</td>\n",
       "      <td>2.417</td>\n",
       "      <td>6.775</td>\n",
       "      <td>1.685</td>\n",
       "      <td>2.027</td>\n",
       "      <td>...</td>\n",
       "      <td>0</td>\n",
       "      <td>0</td>\n",
       "      <td>0</td>\n",
       "      <td>0</td>\n",
       "      <td>0</td>\n",
       "      <td>0</td>\n",
       "      <td>1</td>\n",
       "      <td>1</td>\n",
       "      <td>1</td>\n",
       "      <td>1</td>\n",
       "    </tr>\n",
       "    <tr>\n",
       "      <th>4997</th>\n",
       "      <td>5.701</td>\n",
       "      <td>0.808</td>\n",
       "      <td>1.729</td>\n",
       "      <td>2.605</td>\n",
       "      <td>1.136</td>\n",
       "      <td>0.573</td>\n",
       "      <td>1.840</td>\n",
       "      <td>5.744</td>\n",
       "      <td>1.588</td>\n",
       "      <td>1.242</td>\n",
       "      <td>...</td>\n",
       "      <td>0</td>\n",
       "      <td>0</td>\n",
       "      <td>0</td>\n",
       "      <td>0</td>\n",
       "      <td>0</td>\n",
       "      <td>1</td>\n",
       "      <td>1</td>\n",
       "      <td>1</td>\n",
       "      <td>1</td>\n",
       "      <td>1</td>\n",
       "    </tr>\n",
       "    <tr>\n",
       "      <th>4998</th>\n",
       "      <td>20.330</td>\n",
       "      <td>2.318</td>\n",
       "      <td>8.573</td>\n",
       "      <td>5.789</td>\n",
       "      <td>3.347</td>\n",
       "      <td>1.997</td>\n",
       "      <td>5.206</td>\n",
       "      <td>20.039</td>\n",
       "      <td>3.999</td>\n",
       "      <td>7.692</td>\n",
       "      <td>...</td>\n",
       "      <td>0</td>\n",
       "      <td>0</td>\n",
       "      <td>0</td>\n",
       "      <td>0</td>\n",
       "      <td>0</td>\n",
       "      <td>0</td>\n",
       "      <td>0</td>\n",
       "      <td>0</td>\n",
       "      <td>0</td>\n",
       "      <td>0</td>\n",
       "    </tr>\n",
       "    <tr>\n",
       "      <th>4999</th>\n",
       "      <td>20.127</td>\n",
       "      <td>2.377</td>\n",
       "      <td>8.618</td>\n",
       "      <td>5.754</td>\n",
       "      <td>3.425</td>\n",
       "      <td>2.114</td>\n",
       "      <td>5.256</td>\n",
       "      <td>20.466</td>\n",
       "      <td>3.937</td>\n",
       "      <td>8.008</td>\n",
       "      <td>...</td>\n",
       "      <td>0</td>\n",
       "      <td>0</td>\n",
       "      <td>0</td>\n",
       "      <td>0</td>\n",
       "      <td>0</td>\n",
       "      <td>0</td>\n",
       "      <td>0</td>\n",
       "      <td>0</td>\n",
       "      <td>0</td>\n",
       "      <td>0</td>\n",
       "    </tr>\n",
       "  </tbody>\n",
       "</table>\n",
       "<p>5000 rows × 49 columns</p>\n",
       "</div>"
      ],
      "text/plain": [
       "      ridership  Austin  Quincy_Wells  Belmont  Archer_35th  Oak_Park  \\\n",
       "0        15.732   1.463         8.371    4.599        2.009     1.421   \n",
       "1        15.762   1.505         8.351    4.725        2.088     1.429   \n",
       "2        15.872   1.519         8.359    4.684        2.108     1.488   \n",
       "3        15.874   1.490         7.852    4.769        2.166     1.445   \n",
       "4        15.423   1.496         7.621    4.720        2.058     1.415   \n",
       "...         ...     ...           ...      ...          ...       ...   \n",
       "4995     19.546   2.305         8.105    5.953        3.302     2.033   \n",
       "4996      6.888   1.164         2.073    3.437        1.715     0.865   \n",
       "4997      5.701   0.808         1.729    2.605        1.136     0.573   \n",
       "4998     20.330   2.318         8.573    5.789        3.347     1.997   \n",
       "4999     20.127   2.377         8.618    5.754        3.425     2.114   \n",
       "\n",
       "      Western  Clark_Lake  Clinton  Merchandise_Mart  ...  Blackhawks_Away  \\\n",
       "0       3.319      15.561    2.403             6.481  ...                0   \n",
       "1       3.344      15.720    2.402             6.477  ...                0   \n",
       "2       3.363      15.558    2.367             6.405  ...                0   \n",
       "3       3.359      15.745    2.415             6.489  ...                0   \n",
       "4       3.271      15.602    2.416             5.798  ...                0   \n",
       "...       ...         ...      ...               ...  ...              ...   \n",
       "4995    5.076      20.632    4.193             7.107  ...                0   \n",
       "4996    2.417       6.775    1.685             2.027  ...                0   \n",
       "4997    1.840       5.744    1.588             1.242  ...                0   \n",
       "4998    5.206      20.039    3.999             7.692  ...                0   \n",
       "4999    5.256      20.466    3.937             8.008  ...                0   \n",
       "\n",
       "      Blackhawks_Home  Bulls_Away  Bulls_Home  Bears_Away  Bears_Home  \\\n",
       "0                   0           0           0           0           0   \n",
       "1                   0           0           1           0           0   \n",
       "2                   0           1           0           0           0   \n",
       "3                   0           0           0           0           0   \n",
       "4                   0           0           0           0           0   \n",
       "...               ...         ...         ...         ...         ...   \n",
       "4995                0           0           0           0           0   \n",
       "4996                0           0           0           0           0   \n",
       "4997                0           0           0           0           1   \n",
       "4998                0           0           0           0           0   \n",
       "4999                0           0           0           0           0   \n",
       "\n",
       "      WhiteSox_Away  WhiteSox_Home  Cubs_Away  Cubs_Home  \n",
       "0                 0              0          0          0  \n",
       "1                 0              0          0          0  \n",
       "2                 0              0          0          0  \n",
       "3                 0              0          0          0  \n",
       "4                 0              0          0          0  \n",
       "...             ...            ...        ...        ...  \n",
       "4995              1              1          1          1  \n",
       "4996              1              1          1          1  \n",
       "4997              1              1          1          1  \n",
       "4998              0              0          0          0  \n",
       "4999              0              0          0          0  \n",
       "\n",
       "[5000 rows x 49 columns]"
      ]
     },
     "execution_count": 2,
     "metadata": {},
     "output_type": "execute_result"
    }
   ],
   "source": [
    "raw = pd.read_csv('data.csv').drop(columns = 'Unnamed: 0')\n",
    "raw\n"
   ]
  },
  {
   "cell_type": "markdown",
   "metadata": {},
   "source": [
    "We can read in our data, and fit a pipeline that has both the preprocessing steps and the model."
   ]
  },
  {
   "cell_type": "code",
   "execution_count": 3,
   "metadata": {},
   "outputs": [],
   "source": [
    "X_train, X_test, y_train, y_test = model_selection.train_test_split(\n",
    "    raw.drop(columns = ['ridership']),\n",
    "    raw['ridership'],\n",
    "    test_size=0.2\n",
    ")"
   ]
  },
  {
   "cell_type": "code",
   "execution_count": 4,
   "metadata": {},
   "outputs": [],
   "source": [
    "rf = RandomForestRegressor().fit(X_train, y_train)"
   ]
  },
  {
   "cell_type": "markdown",
   "metadata": {},
   "source": [
    "## Version a model\n",
    "\n",
    "Users first create a deployable model object, `VetiverModel()`. This holds all the pieces necessary to deploy the model later.\n",
    "\n",
    "*In R, you saw the equivalent, `vetiver_model()`.*"
   ]
  },
  {
   "cell_type": "code",
   "execution_count": 5,
   "metadata": {},
   "outputs": [],
   "source": [
    "v = vetiver.VetiverModel(\n",
    "    rf, \n",
    "    ptype_data=X_train, \n",
    "    model_name = \"chicago_ridership\"\n",
    ")"
   ]
  },
  {
   "cell_type": "code",
   "execution_count": 7,
   "metadata": {},
   "outputs": [
    {
     "name": "stderr",
     "output_type": "stream",
     "text": [
      "Model Cards provide a framework for transparent, responsible reporting. \n",
      " Use the vetiver `.qmd` Quarto template as a place to start, \n",
      " with vetiver.model_card()\n",
      "Writing pin:\n",
      "Name: 'chicago_ridership'\n",
      "Version: 20221003T123443Z-a28ef\n"
     ]
    }
   ],
   "source": [
    "import pins \n",
    "board = pins.board_folder(path = \".\", allow_pickle_read=True)\n",
    "\n",
    "vetiver.vetiver_pin_write(board, v)"
   ]
  },
  {
   "cell_type": "code",
   "execution_count": null,
   "metadata": {},
   "outputs": [
    {
     "data": {
      "text/plain": [
       "{'ptype': '{\"Austin\": 0.604, \"Quincy_Wells\": 1.662, \"Belmont\": 1.936, \"Archer_35th\": 0.949, \"Oak_Park\": 0.458, \"Western\": 1.04, \"Clark_Lake\": 3.665, \"Clinton\": 0.961, \"Merchandise_Mart\": 0.529, \"Irving_Park\": 1.567, \"Washington_Wells\": 0.827, \"Harlem\": 0.933, \"Monroe\": 1.25, \"Polk\": 0.669, \"Ashland\": 0.534, \"Kedzie\": 1.112, \"Addison\": 1.162, \"Jefferson_Park\": 2.441, \"Montrose\": 0.603, \"California\": 0.421, \"temp_min\": 55.0, \"temp\": 63.05, \"temp_max\": 79.0, \"temp_change\": 24.0, \"dew\": 40.45, \"humidity\": 46.5, \"pressure\": 30.15, \"pressure_change\": 0.109999999999999, \"wind\": 9.8, \"wind_max\": 17.3, \"gust\": 0.0, \"gust_max\": 27.6, \"percip\": 0.0, \"percip_max\": 0.0, \"weather_rain\": 0.0, \"weather_snow\": 0.0, \"weather_cloud\": 0.692307692307692, \"weather_storm\": 0.115384615384615, \"Blackhawks_Away\": 0.0, \"Blackhawks_Home\": 0.0, \"Bulls_Away\": 0.0, \"Bulls_Home\": 0.0, \"Bears_Away\": 0.0, \"Bears_Home\": 0.0, \"WhiteSox_Away\": 1.0, \"WhiteSox_Home\": 1.0, \"Cubs_Away\": 1.0, \"Cubs_Home\": 1.0}',\n",
       " 'required_pkgs': ['vetiver', 'scikit-learn']}"
      ]
     },
     "execution_count": 45,
     "metadata": {},
     "output_type": "execute_result"
    }
   ],
   "source": [
    "board.pin_meta(\"linear_model\").user\n",
    "#vetiver.model_card()"
   ]
  },
  {
   "cell_type": "markdown",
   "metadata": {},
   "source": [
    "## Deploy a model\n",
    "Next, intialize the API endpoint with `VetiverAPI()`. To run the API locally, use `.run()`\n",
    "\n",
    "*In R, you saw the equivalents, `vetiver_api()` and `pr_run()`.*"
   ]
  },
  {
   "cell_type": "code",
   "execution_count": null,
   "metadata": {},
   "outputs": [
    {
     "name": "stderr",
     "output_type": "stream",
     "text": [
      "/Users/isabelzimmerman/.pyenv/versions/3.9.11/envs/pydemo/lib/python3.9/site-packages/vetiver/utils.py:16: UserWarning: WARNING: Jupyter Notebooks are not considered stable environments for production code\n",
      "  warnings.warn(\n",
      "INFO:     Started server process [18627]\n",
      "INFO:     Waiting for application startup.\n",
      "INFO:     Application startup complete.\n",
      "INFO:     Uvicorn running on http://127.0.0.1:8000 (Press CTRL+C to quit)\n"
     ]
    },
    {
     "name": "stdout",
     "output_type": "stream",
     "text": [
      "INFO:     127.0.0.1:63789 - \"GET / HTTP/1.1\" 307 Temporary Redirect\n",
      "INFO:     127.0.0.1:63789 - \"GET /__docs__ HTTP/1.1\" 200 OK\n",
      "INFO:     127.0.0.1:63789 - \"GET /openapi.json HTTP/1.1\" 200 OK\n",
      "INFO:     127.0.0.1:63810 - \"POST /predict HTTP/1.1\" 200 OK\n",
      "INFO:     127.0.0.1:49282 - \"POST /predict HTTP/1.1\" 200 OK\n"
     ]
    },
    {
     "name": "stderr",
     "output_type": "stream",
     "text": [
      "INFO:     Shutting down\n",
      "INFO:     Waiting for application shutdown.\n",
      "INFO:     Application shutdown complete.\n",
      "INFO:     Finished server process [18627]\n"
     ]
    }
   ],
   "source": [
    "app = vetiver.VetiverAPI(v, check_ptype=True)\n",
    "app.run()"
   ]
  },
  {
   "cell_type": "markdown",
   "metadata": {},
   "source": [
    "This is a great start to debug my API, but my end goal is to *NOT* run my model on my personal machine. We can instead deploy to a remote server, such as RStudio Connect. This will involve setting up a connection with the server and deploying our pinned model to RSConnect."
   ]
  },
  {
   "cell_type": "markdown",
   "metadata": {},
   "source": [
    "We can deploy our model, which is strongly linked to the version we just pinned above. Note: this model is already deployed, so no need to run this chunk again, unless we want to update our model."
   ]
  },
  {
   "cell_type": "code",
   "execution_count": null,
   "metadata": {},
   "outputs": [],
   "source": [
    "# connect_server = rsconnect.api.RSConnectServer(url = rsc_url, api_key = api_key)\n",
    "\n",
    "# vetiver.deploy_rsconnect(\n",
    "#     connect_server = connect_server, \n",
    "#     board = board, \n",
    "#     pin_name = \"superbowl_rf\", \n",
    "#     version = \"20220901T144702Z-fd402\")"
   ]
  },
  {
   "cell_type": "markdown",
   "metadata": {},
   "source": [
    "Vetiver also helps make deployment easier for other cloud providers by offering functions to automatically write `app.py` files and Dockerfiles."
   ]
  },
  {
   "cell_type": "code",
   "execution_count": null,
   "metadata": {},
   "outputs": [],
   "source": [
    "# write app to be deployed within docker, or to other cloud provider\n",
    "vetiver.write_app(board, \"chicago_ridership\", version = \"20221002T211623Z-7bad9\")\n",
    "vetiver.write_docker()"
   ]
  },
  {
   "cell_type": "markdown",
   "metadata": {},
   "source": [
    "With the model deployed, we can interact with the API endpoint as if it were a model in memory."
   ]
  },
  {
   "cell_type": "code",
   "execution_count": null,
   "metadata": {},
   "outputs": [
    {
     "data": {
      "text/html": [
       "<div>\n",
       "<style scoped>\n",
       "    .dataframe tbody tr th:only-of-type {\n",
       "        vertical-align: middle;\n",
       "    }\n",
       "\n",
       "    .dataframe tbody tr th {\n",
       "        vertical-align: top;\n",
       "    }\n",
       "\n",
       "    .dataframe thead th {\n",
       "        text-align: right;\n",
       "    }\n",
       "</style>\n",
       "<table border=\"1\" class=\"dataframe\">\n",
       "  <thead>\n",
       "    <tr style=\"text-align: right;\">\n",
       "      <th></th>\n",
       "      <th>prediction</th>\n",
       "    </tr>\n",
       "  </thead>\n",
       "  <tbody>\n",
       "    <tr>\n",
       "      <th>0</th>\n",
       "      <td>452.581548</td>\n",
       "    </tr>\n",
       "    <tr>\n",
       "      <th>1</th>\n",
       "      <td>15054.536775</td>\n",
       "    </tr>\n",
       "    <tr>\n",
       "      <th>2</th>\n",
       "      <td>8830.437135</td>\n",
       "    </tr>\n",
       "    <tr>\n",
       "      <th>3</th>\n",
       "      <td>9872.934486</td>\n",
       "    </tr>\n",
       "    <tr>\n",
       "      <th>4</th>\n",
       "      <td>181.150403</td>\n",
       "    </tr>\n",
       "    <tr>\n",
       "      <th>5</th>\n",
       "      <td>176.770317</td>\n",
       "    </tr>\n",
       "    <tr>\n",
       "      <th>6</th>\n",
       "      <td>417.763305</td>\n",
       "    </tr>\n",
       "    <tr>\n",
       "      <th>7</th>\n",
       "      <td>32092.437069</td>\n",
       "    </tr>\n",
       "    <tr>\n",
       "      <th>8</th>\n",
       "      <td>2791.377251</td>\n",
       "    </tr>\n",
       "    <tr>\n",
       "      <th>9</th>\n",
       "      <td>15054.536775</td>\n",
       "    </tr>\n",
       "    <tr>\n",
       "      <th>10</th>\n",
       "      <td>138.345728</td>\n",
       "    </tr>\n",
       "    <tr>\n",
       "      <th>11</th>\n",
       "      <td>473.248471</td>\n",
       "    </tr>\n",
       "    <tr>\n",
       "      <th>12</th>\n",
       "      <td>9872.934486</td>\n",
       "    </tr>\n",
       "    <tr>\n",
       "      <th>13</th>\n",
       "      <td>2283.889674</td>\n",
       "    </tr>\n",
       "    <tr>\n",
       "      <th>14</th>\n",
       "      <td>930.863921</td>\n",
       "    </tr>\n",
       "    <tr>\n",
       "      <th>15</th>\n",
       "      <td>813.921685</td>\n",
       "    </tr>\n",
       "    <tr>\n",
       "      <th>16</th>\n",
       "      <td>417.763305</td>\n",
       "    </tr>\n",
       "    <tr>\n",
       "      <th>17</th>\n",
       "      <td>417.763305</td>\n",
       "    </tr>\n",
       "    <tr>\n",
       "      <th>18</th>\n",
       "      <td>611.808806</td>\n",
       "    </tr>\n",
       "    <tr>\n",
       "      <th>19</th>\n",
       "      <td>813.921685</td>\n",
       "    </tr>\n",
       "    <tr>\n",
       "      <th>20</th>\n",
       "      <td>473.248471</td>\n",
       "    </tr>\n",
       "    <tr>\n",
       "      <th>21</th>\n",
       "      <td>158.687602</td>\n",
       "    </tr>\n",
       "    <tr>\n",
       "      <th>22</th>\n",
       "      <td>242.080161</td>\n",
       "    </tr>\n",
       "    <tr>\n",
       "      <th>23</th>\n",
       "      <td>1586.633599</td>\n",
       "    </tr>\n",
       "    <tr>\n",
       "      <th>24</th>\n",
       "      <td>15054.536775</td>\n",
       "    </tr>\n",
       "    <tr>\n",
       "      <th>25</th>\n",
       "      <td>15054.536775</td>\n",
       "    </tr>\n",
       "    <tr>\n",
       "      <th>26</th>\n",
       "      <td>9872.934486</td>\n",
       "    </tr>\n",
       "    <tr>\n",
       "      <th>27</th>\n",
       "      <td>15054.536775</td>\n",
       "    </tr>\n",
       "    <tr>\n",
       "      <th>28</th>\n",
       "      <td>452.581548</td>\n",
       "    </tr>\n",
       "    <tr>\n",
       "      <th>29</th>\n",
       "      <td>15054.536775</td>\n",
       "    </tr>\n",
       "    <tr>\n",
       "      <th>30</th>\n",
       "      <td>3766.167807</td>\n",
       "    </tr>\n",
       "    <tr>\n",
       "      <th>31</th>\n",
       "      <td>15054.536775</td>\n",
       "    </tr>\n",
       "    <tr>\n",
       "      <th>32</th>\n",
       "      <td>176.770317</td>\n",
       "    </tr>\n",
       "    <tr>\n",
       "      <th>33</th>\n",
       "      <td>1586.633599</td>\n",
       "    </tr>\n",
       "    <tr>\n",
       "      <th>34</th>\n",
       "      <td>158.687602</td>\n",
       "    </tr>\n",
       "    <tr>\n",
       "      <th>35</th>\n",
       "      <td>9872.934486</td>\n",
       "    </tr>\n",
       "    <tr>\n",
       "      <th>36</th>\n",
       "      <td>5565.112651</td>\n",
       "    </tr>\n",
       "    <tr>\n",
       "      <th>37</th>\n",
       "      <td>15054.536775</td>\n",
       "    </tr>\n",
       "    <tr>\n",
       "      <th>38</th>\n",
       "      <td>813.921685</td>\n",
       "    </tr>\n",
       "    <tr>\n",
       "      <th>39</th>\n",
       "      <td>15054.536775</td>\n",
       "    </tr>\n",
       "    <tr>\n",
       "      <th>40</th>\n",
       "      <td>369.638368</td>\n",
       "    </tr>\n",
       "    <tr>\n",
       "      <th>41</th>\n",
       "      <td>128178.085583</td>\n",
       "    </tr>\n",
       "    <tr>\n",
       "      <th>42</th>\n",
       "      <td>369.638368</td>\n",
       "    </tr>\n",
       "    <tr>\n",
       "      <th>43</th>\n",
       "      <td>9872.934486</td>\n",
       "    </tr>\n",
       "    <tr>\n",
       "      <th>44</th>\n",
       "      <td>242.080161</td>\n",
       "    </tr>\n",
       "  </tbody>\n",
       "</table>\n",
       "</div>"
      ],
      "text/plain": [
       "       prediction\n",
       "0      452.581548\n",
       "1    15054.536775\n",
       "2     8830.437135\n",
       "3     9872.934486\n",
       "4      181.150403\n",
       "5      176.770317\n",
       "6      417.763305\n",
       "7    32092.437069\n",
       "8     2791.377251\n",
       "9    15054.536775\n",
       "10     138.345728\n",
       "11     473.248471\n",
       "12    9872.934486\n",
       "13    2283.889674\n",
       "14     930.863921\n",
       "15     813.921685\n",
       "16     417.763305\n",
       "17     417.763305\n",
       "18     611.808806\n",
       "19     813.921685\n",
       "20     473.248471\n",
       "21     158.687602\n",
       "22     242.080161\n",
       "23    1586.633599\n",
       "24   15054.536775\n",
       "25   15054.536775\n",
       "26    9872.934486\n",
       "27   15054.536775\n",
       "28     452.581548\n",
       "29   15054.536775\n",
       "30    3766.167807\n",
       "31   15054.536775\n",
       "32     176.770317\n",
       "33    1586.633599\n",
       "34     158.687602\n",
       "35    9872.934486\n",
       "36    5565.112651\n",
       "37   15054.536775\n",
       "38     813.921685\n",
       "39   15054.536775\n",
       "40     369.638368\n",
       "41  128178.085583\n",
       "42     369.638368\n",
       "43    9872.934486\n",
       "44     242.080161"
      ]
     },
     "execution_count": 9,
     "metadata": {},
     "output_type": "execute_result"
    }
   ],
   "source": [
    "docker_endpoint = vetiver_endpoint(\"http://0.0.0.0:8080/predict\")\n",
    "\n",
    "response = vetiver.predict(data = X_test, endpoint = docker_endpoint)\n",
    "response"
   ]
  },
  {
   "cell_type": "code",
   "execution_count": 8,
   "metadata": {},
   "outputs": [],
   "source": [
    "from sklearn import metrics\n",
    "from datetime import timedelta\n",
    "\n",
    "metric_set = [metrics.mean_absolute_error, metrics.mean_squared_error]\n",
    "td = timedelta(weeks = 1)"
   ]
  },
  {
   "cell_type": "code",
   "execution_count": 9,
   "metadata": {},
   "outputs": [
    {
     "data": {
      "text/html": [
       "<div>\n",
       "<style scoped>\n",
       "    .dataframe tbody tr th:only-of-type {\n",
       "        vertical-align: middle;\n",
       "    }\n",
       "\n",
       "    .dataframe tbody tr th {\n",
       "        vertical-align: top;\n",
       "    }\n",
       "\n",
       "    .dataframe thead th {\n",
       "        text-align: right;\n",
       "    }\n",
       "</style>\n",
       "<table border=\"1\" class=\"dataframe\">\n",
       "  <thead>\n",
       "    <tr style=\"text-align: right;\">\n",
       "      <th></th>\n",
       "      <th>ridership</th>\n",
       "      <th>Austin</th>\n",
       "      <th>Quincy_Wells</th>\n",
       "      <th>Belmont</th>\n",
       "      <th>Archer_35th</th>\n",
       "      <th>Oak_Park</th>\n",
       "      <th>Western</th>\n",
       "      <th>Clark_Lake</th>\n",
       "      <th>Clinton</th>\n",
       "      <th>Merchandise_Mart</th>\n",
       "      <th>...</th>\n",
       "      <th>Bulls_Away</th>\n",
       "      <th>Bulls_Home</th>\n",
       "      <th>Bears_Away</th>\n",
       "      <th>Bears_Home</th>\n",
       "      <th>WhiteSox_Away</th>\n",
       "      <th>WhiteSox_Home</th>\n",
       "      <th>Cubs_Away</th>\n",
       "      <th>Cubs_Home</th>\n",
       "      <th>date</th>\n",
       "      <th>preds</th>\n",
       "    </tr>\n",
       "  </thead>\n",
       "  <tbody>\n",
       "    <tr>\n",
       "      <th>0</th>\n",
       "      <td>20.588</td>\n",
       "      <td>2.484</td>\n",
       "      <td>8.415</td>\n",
       "      <td>5.743</td>\n",
       "      <td>3.419</td>\n",
       "      <td>2.151</td>\n",
       "      <td>5.322</td>\n",
       "      <td>20.547</td>\n",
       "      <td>3.839</td>\n",
       "      <td>8.155</td>\n",
       "      <td>...</td>\n",
       "      <td>0</td>\n",
       "      <td>0</td>\n",
       "      <td>0</td>\n",
       "      <td>0</td>\n",
       "      <td>0</td>\n",
       "      <td>0</td>\n",
       "      <td>0</td>\n",
       "      <td>0</td>\n",
       "      <td>2014-10-01</td>\n",
       "      <td>20.168709</td>\n",
       "    </tr>\n",
       "    <tr>\n",
       "      <th>1</th>\n",
       "      <td>20.561</td>\n",
       "      <td>2.450</td>\n",
       "      <td>8.489</td>\n",
       "      <td>5.865</td>\n",
       "      <td>3.472</td>\n",
       "      <td>2.146</td>\n",
       "      <td>5.394</td>\n",
       "      <td>20.832</td>\n",
       "      <td>3.956</td>\n",
       "      <td>7.890</td>\n",
       "      <td>...</td>\n",
       "      <td>0</td>\n",
       "      <td>0</td>\n",
       "      <td>0</td>\n",
       "      <td>0</td>\n",
       "      <td>0</td>\n",
       "      <td>0</td>\n",
       "      <td>0</td>\n",
       "      <td>0</td>\n",
       "      <td>2014-10-02</td>\n",
       "      <td>20.675898</td>\n",
       "    </tr>\n",
       "    <tr>\n",
       "      <th>2</th>\n",
       "      <td>20.260</td>\n",
       "      <td>2.443</td>\n",
       "      <td>7.818</td>\n",
       "      <td>6.042</td>\n",
       "      <td>3.349</td>\n",
       "      <td>2.066</td>\n",
       "      <td>5.105</td>\n",
       "      <td>20.354</td>\n",
       "      <td>3.913</td>\n",
       "      <td>7.247</td>\n",
       "      <td>...</td>\n",
       "      <td>0</td>\n",
       "      <td>0</td>\n",
       "      <td>0</td>\n",
       "      <td>0</td>\n",
       "      <td>0</td>\n",
       "      <td>0</td>\n",
       "      <td>0</td>\n",
       "      <td>0</td>\n",
       "      <td>2014-10-03</td>\n",
       "      <td>19.970072</td>\n",
       "    </tr>\n",
       "  </tbody>\n",
       "</table>\n",
       "<p>3 rows × 51 columns</p>\n",
       "</div>"
      ],
      "text/plain": [
       "   ridership  Austin  Quincy_Wells  Belmont  Archer_35th  Oak_Park  Western  \\\n",
       "0     20.588   2.484         8.415    5.743        3.419     2.151    5.322   \n",
       "1     20.561   2.450         8.489    5.865        3.472     2.146    5.394   \n",
       "2     20.260   2.443         7.818    6.042        3.349     2.066    5.105   \n",
       "\n",
       "   Clark_Lake  Clinton  Merchandise_Mart  ...  Bulls_Away  Bulls_Home  \\\n",
       "0      20.547    3.839             8.155  ...           0           0   \n",
       "1      20.832    3.956             7.890  ...           0           0   \n",
       "2      20.354    3.913             7.247  ...           0           0   \n",
       "\n",
       "   Bears_Away  Bears_Home  WhiteSox_Away  WhiteSox_Home  Cubs_Away  Cubs_Home  \\\n",
       "0           0           0              0              0          0          0   \n",
       "1           0           0              0              0          0          0   \n",
       "2           0           0              0              0          0          0   \n",
       "\n",
       "         date      preds  \n",
       "0  2014-10-01  20.168709  \n",
       "1  2014-10-02  20.675898  \n",
       "2  2014-10-03  19.970072  \n",
       "\n",
       "[3 rows x 51 columns]"
      ]
     },
     "execution_count": 9,
     "metadata": {},
     "output_type": "execute_result"
    }
   ],
   "source": [
    "monitored_data = pd.read_csv(\"monitored_data.csv\").drop(columns = 'Unnamed: 0')\n",
    "monitored_data.head(3)"
   ]
  },
  {
   "cell_type": "code",
   "execution_count": 10,
   "metadata": {},
   "outputs": [
    {
     "data": {
      "text/html": [
       "<div>\n",
       "<style scoped>\n",
       "    .dataframe tbody tr th:only-of-type {\n",
       "        vertical-align: middle;\n",
       "    }\n",
       "\n",
       "    .dataframe tbody tr th {\n",
       "        vertical-align: top;\n",
       "    }\n",
       "\n",
       "    .dataframe thead th {\n",
       "        text-align: right;\n",
       "    }\n",
       "</style>\n",
       "<table border=\"1\" class=\"dataframe\">\n",
       "  <thead>\n",
       "    <tr style=\"text-align: right;\">\n",
       "      <th></th>\n",
       "      <th>index</th>\n",
       "      <th>n</th>\n",
       "      <th>metric</th>\n",
       "      <th>estimate</th>\n",
       "    </tr>\n",
       "  </thead>\n",
       "  <tbody>\n",
       "    <tr>\n",
       "      <th>0</th>\n",
       "      <td>2014-10-01</td>\n",
       "      <td>7</td>\n",
       "      <td>mean_absolute_error</td>\n",
       "      <td>0.708226</td>\n",
       "    </tr>\n",
       "    <tr>\n",
       "      <th>1</th>\n",
       "      <td>2014-10-01</td>\n",
       "      <td>7</td>\n",
       "      <td>mean_squared_error</td>\n",
       "      <td>0.716034</td>\n",
       "    </tr>\n",
       "    <tr>\n",
       "      <th>2</th>\n",
       "      <td>2014-10-08</td>\n",
       "      <td>7</td>\n",
       "      <td>mean_absolute_error</td>\n",
       "      <td>1.464859</td>\n",
       "    </tr>\n",
       "    <tr>\n",
       "      <th>3</th>\n",
       "      <td>2014-10-08</td>\n",
       "      <td>7</td>\n",
       "      <td>mean_squared_error</td>\n",
       "      <td>3.385447</td>\n",
       "    </tr>\n",
       "    <tr>\n",
       "      <th>4</th>\n",
       "      <td>2014-10-15</td>\n",
       "      <td>7</td>\n",
       "      <td>mean_absolute_error</td>\n",
       "      <td>0.607319</td>\n",
       "    </tr>\n",
       "    <tr>\n",
       "      <th>...</th>\n",
       "      <td>...</td>\n",
       "      <td>...</td>\n",
       "      <td>...</td>\n",
       "      <td>...</td>\n",
       "    </tr>\n",
       "    <tr>\n",
       "      <th>195</th>\n",
       "      <td>2016-08-10</td>\n",
       "      <td>7</td>\n",
       "      <td>mean_squared_error</td>\n",
       "      <td>1.105440</td>\n",
       "    </tr>\n",
       "    <tr>\n",
       "      <th>196</th>\n",
       "      <td>2016-08-17</td>\n",
       "      <td>7</td>\n",
       "      <td>mean_absolute_error</td>\n",
       "      <td>0.889162</td>\n",
       "    </tr>\n",
       "    <tr>\n",
       "      <th>197</th>\n",
       "      <td>2016-08-17</td>\n",
       "      <td>7</td>\n",
       "      <td>mean_squared_error</td>\n",
       "      <td>0.888310</td>\n",
       "    </tr>\n",
       "    <tr>\n",
       "      <th>198</th>\n",
       "      <td>2016-08-24</td>\n",
       "      <td>5</td>\n",
       "      <td>mean_absolute_error</td>\n",
       "      <td>1.095029</td>\n",
       "    </tr>\n",
       "    <tr>\n",
       "      <th>199</th>\n",
       "      <td>2016-08-24</td>\n",
       "      <td>5</td>\n",
       "      <td>mean_squared_error</td>\n",
       "      <td>1.575785</td>\n",
       "    </tr>\n",
       "  </tbody>\n",
       "</table>\n",
       "<p>200 rows × 4 columns</p>\n",
       "</div>"
      ],
      "text/plain": [
       "         index  n               metric  estimate\n",
       "0   2014-10-01  7  mean_absolute_error  0.708226\n",
       "1   2014-10-01  7   mean_squared_error  0.716034\n",
       "2   2014-10-08  7  mean_absolute_error  1.464859\n",
       "3   2014-10-08  7   mean_squared_error  3.385447\n",
       "4   2014-10-15  7  mean_absolute_error  0.607319\n",
       "..         ... ..                  ...       ...\n",
       "195 2016-08-10  7   mean_squared_error  1.105440\n",
       "196 2016-08-17  7  mean_absolute_error  0.889162\n",
       "197 2016-08-17  7   mean_squared_error  0.888310\n",
       "198 2016-08-24  5  mean_absolute_error  1.095029\n",
       "199 2016-08-24  5   mean_squared_error  1.575785\n",
       "\n",
       "[200 rows x 4 columns]"
      ]
     },
     "execution_count": 10,
     "metadata": {},
     "output_type": "execute_result"
    }
   ],
   "source": [
    "m = vetiver.compute_metrics(data = monitored_data, \n",
    "                    date_var=\"date\", \n",
    "                    period = td, \n",
    "                    metric_set=metric_set, \n",
    "                    truth=\"ridership\", \n",
    "                    estimate=\"preds\")\n",
    "m"
   ]
  },
  {
   "cell_type": "code",
   "execution_count": 11,
   "metadata": {},
   "outputs": [
    {
     "data": {
      "application/vnd.plotly.v1+json": {
       "config": {
        "plotlyServerURL": "https://plot.ly"
       },
       "data": [
        {
         "customdata": [
          [
           7
          ],
          [
           7
          ],
          [
           7
          ],
          [
           7
          ],
          [
           7
          ],
          [
           7
          ],
          [
           7
          ],
          [
           7
          ],
          [
           7
          ],
          [
           7
          ],
          [
           7
          ],
          [
           7
          ],
          [
           7
          ],
          [
           7
          ],
          [
           7
          ],
          [
           7
          ],
          [
           7
          ],
          [
           7
          ],
          [
           7
          ],
          [
           7
          ],
          [
           7
          ],
          [
           7
          ],
          [
           7
          ],
          [
           7
          ],
          [
           7
          ],
          [
           7
          ],
          [
           7
          ],
          [
           7
          ],
          [
           7
          ],
          [
           7
          ],
          [
           7
          ],
          [
           7
          ],
          [
           7
          ],
          [
           7
          ],
          [
           7
          ],
          [
           7
          ],
          [
           7
          ],
          [
           7
          ],
          [
           7
          ],
          [
           7
          ],
          [
           7
          ],
          [
           7
          ],
          [
           7
          ],
          [
           7
          ],
          [
           7
          ],
          [
           7
          ],
          [
           7
          ],
          [
           7
          ],
          [
           7
          ],
          [
           7
          ],
          [
           7
          ],
          [
           7
          ],
          [
           7
          ],
          [
           7
          ],
          [
           7
          ],
          [
           7
          ],
          [
           7
          ],
          [
           7
          ],
          [
           7
          ],
          [
           7
          ],
          [
           7
          ],
          [
           7
          ],
          [
           7
          ],
          [
           7
          ],
          [
           7
          ],
          [
           7
          ],
          [
           7
          ],
          [
           7
          ],
          [
           7
          ],
          [
           7
          ],
          [
           7
          ],
          [
           7
          ],
          [
           7
          ],
          [
           7
          ],
          [
           7
          ],
          [
           7
          ],
          [
           7
          ],
          [
           7
          ],
          [
           7
          ],
          [
           7
          ],
          [
           7
          ],
          [
           7
          ],
          [
           7
          ],
          [
           7
          ],
          [
           7
          ],
          [
           7
          ],
          [
           7
          ],
          [
           7
          ],
          [
           7
          ],
          [
           7
          ],
          [
           7
          ],
          [
           7
          ],
          [
           7
          ],
          [
           7
          ],
          [
           7
          ],
          [
           7
          ],
          [
           7
          ],
          [
           7
          ],
          [
           7
          ],
          [
           5
          ]
         ],
         "hovertemplate": "metric=mean_absolute_error<br>index=%{x}<br>estimate=%{y}<br>n=%{customdata[0]:}<extra></extra>",
         "legendgroup": "mean_absolute_error",
         "line": {
          "color": "#636efa",
          "dash": "solid"
         },
         "marker": {
          "symbol": "circle"
         },
         "mode": "lines+markers",
         "name": "mean_absolute_error",
         "orientation": "v",
         "showlegend": true,
         "type": "scatter",
         "x": [
          "2014-10-01T00:00:00",
          "2014-10-08T00:00:00",
          "2014-10-15T00:00:00",
          "2014-10-22T00:00:00",
          "2014-10-29T00:00:00",
          "2014-11-05T00:00:00",
          "2014-11-12T00:00:00",
          "2014-11-19T00:00:00",
          "2014-11-26T00:00:00",
          "2014-12-03T00:00:00",
          "2014-12-10T00:00:00",
          "2014-12-17T00:00:00",
          "2014-12-24T00:00:00",
          "2014-12-31T00:00:00",
          "2015-01-07T00:00:00",
          "2015-01-14T00:00:00",
          "2015-01-21T00:00:00",
          "2015-01-28T00:00:00",
          "2015-02-04T00:00:00",
          "2015-02-11T00:00:00",
          "2015-02-18T00:00:00",
          "2015-02-25T00:00:00",
          "2015-03-04T00:00:00",
          "2015-03-11T00:00:00",
          "2015-03-18T00:00:00",
          "2015-03-25T00:00:00",
          "2015-04-01T00:00:00",
          "2015-04-08T00:00:00",
          "2015-04-15T00:00:00",
          "2015-04-22T00:00:00",
          "2015-04-29T00:00:00",
          "2015-05-06T00:00:00",
          "2015-05-13T00:00:00",
          "2015-05-20T00:00:00",
          "2015-05-27T00:00:00",
          "2015-06-03T00:00:00",
          "2015-06-10T00:00:00",
          "2015-06-17T00:00:00",
          "2015-06-24T00:00:00",
          "2015-07-01T00:00:00",
          "2015-07-08T00:00:00",
          "2015-07-15T00:00:00",
          "2015-07-22T00:00:00",
          "2015-07-29T00:00:00",
          "2015-08-05T00:00:00",
          "2015-08-12T00:00:00",
          "2015-08-19T00:00:00",
          "2015-08-26T00:00:00",
          "2015-09-02T00:00:00",
          "2015-09-09T00:00:00",
          "2015-09-16T00:00:00",
          "2015-09-23T00:00:00",
          "2015-09-30T00:00:00",
          "2015-10-07T00:00:00",
          "2015-10-14T00:00:00",
          "2015-10-21T00:00:00",
          "2015-10-28T00:00:00",
          "2015-11-04T00:00:00",
          "2015-11-11T00:00:00",
          "2015-11-18T00:00:00",
          "2015-11-25T00:00:00",
          "2015-12-02T00:00:00",
          "2015-12-09T00:00:00",
          "2015-12-16T00:00:00",
          "2015-12-23T00:00:00",
          "2015-12-30T00:00:00",
          "2016-01-06T00:00:00",
          "2016-01-13T00:00:00",
          "2016-01-20T00:00:00",
          "2016-01-27T00:00:00",
          "2016-02-03T00:00:00",
          "2016-02-10T00:00:00",
          "2016-02-17T00:00:00",
          "2016-02-24T00:00:00",
          "2016-03-02T00:00:00",
          "2016-03-09T00:00:00",
          "2016-03-16T00:00:00",
          "2016-03-23T00:00:00",
          "2016-03-30T00:00:00",
          "2016-04-06T00:00:00",
          "2016-04-13T00:00:00",
          "2016-04-20T00:00:00",
          "2016-04-27T00:00:00",
          "2016-05-04T00:00:00",
          "2016-05-11T00:00:00",
          "2016-05-18T00:00:00",
          "2016-05-25T00:00:00",
          "2016-06-01T00:00:00",
          "2016-06-08T00:00:00",
          "2016-06-15T00:00:00",
          "2016-06-22T00:00:00",
          "2016-06-29T00:00:00",
          "2016-07-06T00:00:00",
          "2016-07-13T00:00:00",
          "2016-07-20T00:00:00",
          "2016-07-27T00:00:00",
          "2016-08-03T00:00:00",
          "2016-08-10T00:00:00",
          "2016-08-17T00:00:00",
          "2016-08-24T00:00:00"
         ],
         "xaxis": "x2",
         "y": [
          0.7082257351703921,
          1.464858809992281,
          0.6073192400931632,
          1.2843454614490715,
          0.715373770050489,
          1.394354873113294,
          1.527875544795075,
          1.6911619318572018,
          4.712511271491934,
          0.8083542276372669,
          4.335958967591493,
          1.2748605398277273,
          7.1546371245214,
          4.737499850554154,
          5.590041340537949,
          5.360912225586856,
          1.7107529618500095,
          1.777444720055444,
          0.8792166547771003,
          0.9400210630871564,
          0.8258217015832499,
          2.0092171955620826,
          1.5679381329992859,
          2.4051562254781564,
          1.3878327795424537,
          1.54252490454687,
          0.9475171159582274,
          0.8481116895577567,
          1.9775271165075543,
          1.534230675655475,
          1.0982077240164605,
          1.359375657889229,
          1.537534227225166,
          2.5908980929478234,
          1.529109387660435,
          3.6547528202776225,
          1.3472265751604353,
          1.3720013295549671,
          1.1752172201472095,
          2.620927468575613,
          1.5798437348514125,
          2.259011646352538,
          0.6809512019740512,
          1.126183528215681,
          0.7867450516531802,
          1.2434247222726005,
          0.9393095750906809,
          0.885655975202287,
          3.404101000244141,
          0.8690175635638245,
          3.1704195154506123,
          1.2165348201381125,
          1.637435308218599,
          1.8340167523601314,
          1.4415946479322521,
          1.8539556333469667,
          1.0596262350408558,
          1.4149599929042154,
          1.3491187945580283,
          0.96602640397279,
          4.890261883192433,
          1.4441924219413376,
          4.9886920558625985,
          0.9987489106132338,
          6.905702351705506,
          4.730576232705515,
          6.253769125175976,
          5.641869392142387,
          1.3510574308546215,
          2.2901847751947826,
          0.7684609317218841,
          2.0048755387786583,
          1.2861817737317078,
          2.30964979954112,
          1.278036489524775,
          1.9854279042593146,
          1.258921331065233,
          1.643290184927017,
          1.2629722041277716,
          1.1889037901678994,
          1.0684653705705902,
          0.38408295971679646,
          0.9817209689243862,
          1.4686088645019524,
          0.7791037265818762,
          1.315673500453403,
          2.390645977897077,
          1.8076482757742744,
          3.988136016427176,
          1.3485817954616277,
          1.118456730015345,
          3.0542237416643423,
          0.9663938203456967,
          3.0438704150399083,
          1.6055731502162394,
          2.108264059186662,
          1.4485731313571424,
          0.9725421944110039,
          0.8891623746163498,
          1.0950287286621092
         ],
         "yaxis": "y2"
        },
        {
         "customdata": [
          [
           7
          ],
          [
           7
          ],
          [
           7
          ],
          [
           7
          ],
          [
           7
          ],
          [
           7
          ],
          [
           7
          ],
          [
           7
          ],
          [
           7
          ],
          [
           7
          ],
          [
           7
          ],
          [
           7
          ],
          [
           7
          ],
          [
           7
          ],
          [
           7
          ],
          [
           7
          ],
          [
           7
          ],
          [
           7
          ],
          [
           7
          ],
          [
           7
          ],
          [
           7
          ],
          [
           7
          ],
          [
           7
          ],
          [
           7
          ],
          [
           7
          ],
          [
           7
          ],
          [
           7
          ],
          [
           7
          ],
          [
           7
          ],
          [
           7
          ],
          [
           7
          ],
          [
           7
          ],
          [
           7
          ],
          [
           7
          ],
          [
           7
          ],
          [
           7
          ],
          [
           7
          ],
          [
           7
          ],
          [
           7
          ],
          [
           7
          ],
          [
           7
          ],
          [
           7
          ],
          [
           7
          ],
          [
           7
          ],
          [
           7
          ],
          [
           7
          ],
          [
           7
          ],
          [
           7
          ],
          [
           7
          ],
          [
           7
          ],
          [
           7
          ],
          [
           7
          ],
          [
           7
          ],
          [
           7
          ],
          [
           7
          ],
          [
           7
          ],
          [
           7
          ],
          [
           7
          ],
          [
           7
          ],
          [
           7
          ],
          [
           7
          ],
          [
           7
          ],
          [
           7
          ],
          [
           7
          ],
          [
           7
          ],
          [
           7
          ],
          [
           7
          ],
          [
           7
          ],
          [
           7
          ],
          [
           7
          ],
          [
           7
          ],
          [
           7
          ],
          [
           7
          ],
          [
           7
          ],
          [
           7
          ],
          [
           7
          ],
          [
           7
          ],
          [
           7
          ],
          [
           7
          ],
          [
           7
          ],
          [
           7
          ],
          [
           7
          ],
          [
           7
          ],
          [
           7
          ],
          [
           7
          ],
          [
           7
          ],
          [
           7
          ],
          [
           7
          ],
          [
           7
          ],
          [
           7
          ],
          [
           7
          ],
          [
           7
          ],
          [
           7
          ],
          [
           7
          ],
          [
           7
          ],
          [
           7
          ],
          [
           7
          ],
          [
           7
          ],
          [
           7
          ],
          [
           5
          ]
         ],
         "hovertemplate": "metric=mean_squared_error<br>index=%{x}<br>estimate=%{y}<br>n=%{customdata[0]:}<extra></extra>",
         "legendgroup": "mean_squared_error",
         "line": {
          "color": "#EF553B",
          "dash": "solid"
         },
         "marker": {
          "symbol": "circle"
         },
         "mode": "lines+markers",
         "name": "mean_squared_error",
         "orientation": "v",
         "showlegend": true,
         "type": "scatter",
         "x": [
          "2014-10-01T00:00:00",
          "2014-10-08T00:00:00",
          "2014-10-15T00:00:00",
          "2014-10-22T00:00:00",
          "2014-10-29T00:00:00",
          "2014-11-05T00:00:00",
          "2014-11-12T00:00:00",
          "2014-11-19T00:00:00",
          "2014-11-26T00:00:00",
          "2014-12-03T00:00:00",
          "2014-12-10T00:00:00",
          "2014-12-17T00:00:00",
          "2014-12-24T00:00:00",
          "2014-12-31T00:00:00",
          "2015-01-07T00:00:00",
          "2015-01-14T00:00:00",
          "2015-01-21T00:00:00",
          "2015-01-28T00:00:00",
          "2015-02-04T00:00:00",
          "2015-02-11T00:00:00",
          "2015-02-18T00:00:00",
          "2015-02-25T00:00:00",
          "2015-03-04T00:00:00",
          "2015-03-11T00:00:00",
          "2015-03-18T00:00:00",
          "2015-03-25T00:00:00",
          "2015-04-01T00:00:00",
          "2015-04-08T00:00:00",
          "2015-04-15T00:00:00",
          "2015-04-22T00:00:00",
          "2015-04-29T00:00:00",
          "2015-05-06T00:00:00",
          "2015-05-13T00:00:00",
          "2015-05-20T00:00:00",
          "2015-05-27T00:00:00",
          "2015-06-03T00:00:00",
          "2015-06-10T00:00:00",
          "2015-06-17T00:00:00",
          "2015-06-24T00:00:00",
          "2015-07-01T00:00:00",
          "2015-07-08T00:00:00",
          "2015-07-15T00:00:00",
          "2015-07-22T00:00:00",
          "2015-07-29T00:00:00",
          "2015-08-05T00:00:00",
          "2015-08-12T00:00:00",
          "2015-08-19T00:00:00",
          "2015-08-26T00:00:00",
          "2015-09-02T00:00:00",
          "2015-09-09T00:00:00",
          "2015-09-16T00:00:00",
          "2015-09-23T00:00:00",
          "2015-09-30T00:00:00",
          "2015-10-07T00:00:00",
          "2015-10-14T00:00:00",
          "2015-10-21T00:00:00",
          "2015-10-28T00:00:00",
          "2015-11-04T00:00:00",
          "2015-11-11T00:00:00",
          "2015-11-18T00:00:00",
          "2015-11-25T00:00:00",
          "2015-12-02T00:00:00",
          "2015-12-09T00:00:00",
          "2015-12-16T00:00:00",
          "2015-12-23T00:00:00",
          "2015-12-30T00:00:00",
          "2016-01-06T00:00:00",
          "2016-01-13T00:00:00",
          "2016-01-20T00:00:00",
          "2016-01-27T00:00:00",
          "2016-02-03T00:00:00",
          "2016-02-10T00:00:00",
          "2016-02-17T00:00:00",
          "2016-02-24T00:00:00",
          "2016-03-02T00:00:00",
          "2016-03-09T00:00:00",
          "2016-03-16T00:00:00",
          "2016-03-23T00:00:00",
          "2016-03-30T00:00:00",
          "2016-04-06T00:00:00",
          "2016-04-13T00:00:00",
          "2016-04-20T00:00:00",
          "2016-04-27T00:00:00",
          "2016-05-04T00:00:00",
          "2016-05-11T00:00:00",
          "2016-05-18T00:00:00",
          "2016-05-25T00:00:00",
          "2016-06-01T00:00:00",
          "2016-06-08T00:00:00",
          "2016-06-15T00:00:00",
          "2016-06-22T00:00:00",
          "2016-06-29T00:00:00",
          "2016-07-06T00:00:00",
          "2016-07-13T00:00:00",
          "2016-07-20T00:00:00",
          "2016-07-27T00:00:00",
          "2016-08-03T00:00:00",
          "2016-08-10T00:00:00",
          "2016-08-17T00:00:00",
          "2016-08-24T00:00:00"
         ],
         "xaxis": "x",
         "y": [
          0.7160336952759948,
          3.385446687565463,
          0.5826647643205908,
          3.016281525871763,
          0.646108348458964,
          3.3805134026130594,
          2.722813365885873,
          5.3920131799109425,
          56.904909690872614,
          1.204842004399872,
          46.180506331902556,
          2.721950620611396,
          79.79378158098886,
          37.09317087202072,
          45.248567613540956,
          49.6120311005523,
          4.2132420420406245,
          4.127901873029124,
          1.0148972008344601,
          1.6050369160828877,
          1.3730239451294513,
          7.2838673192416445,
          2.9972412608622494,
          10.101010904906035,
          2.3496043857548727,
          4.848575344609786,
          1.4900384895690355,
          0.9738663308348041,
          5.013376764436016,
          2.901907051697894,
          1.5249534848218307,
          2.4663852001300706,
          2.5581275947540925,
          25.47385746543662,
          2.443035135185691,
          28.946915304608353,
          2.4193792843440454,
          3.0706567575176833,
          1.8023204622358955,
          17.202631485547197,
          2.9307877147986687,
          16.894694671823263,
          0.9842816555358542,
          1.7780496755096074,
          1.25906702640889,
          2.163707915631434,
          1.445133719493717,
          1.1700542082468819,
          37.46670178341479,
          1.0813829410284073,
          27.77828780271266,
          1.8711602244905272,
          2.907117966372321,
          3.594273195912969,
          2.419292416776127,
          6.082543065164101,
          2.8316874771473897,
          2.509986937941864,
          2.616688762543889,
          1.3964660296569809,
          59.54063101882419,
          2.2397577612039146,
          58.582485520912236,
          1.0633718146904807,
          72.74565486490519,
          36.118371420363054,
          59.424165015506176,
          51.54104039717913,
          2.51723541515125,
          16.3841540514275,
          0.8930206682495331,
          10.635500932646712,
          2.0615562612783918,
          12.487997496781986,
          2.080747126111033,
          7.142514031024773,
          2.4513975607945504,
          3.8946557845490246,
          2.2639652467272353,
          2.677409540302434,
          1.491384699150054,
          0.27828513151003736,
          1.2222712526683495,
          2.5889403129285347,
          0.9546858254920502,
          2.0176618047133044,
          28.575832178693812,
          3.5286863441547607,
          36.83567540997577,
          2.2514495594379897,
          1.42758997513046,
          31.112421987028334,
          1.2533147083374427,
          27.63060804440269,
          2.9833947540905403,
          5.526390336063025,
          2.3220556348748222,
          1.1054402853440475,
          0.8883100988575158,
          1.5757848012128506
         ],
         "yaxis": "y"
        }
       ],
       "layout": {
        "annotations": [
         {
          "font": {},
          "showarrow": false,
          "text": "mean_squared_error",
          "textangle": 90,
          "x": 0.98,
          "xanchor": "left",
          "xref": "paper",
          "y": 0.2425,
          "yanchor": "middle",
          "yref": "paper"
         },
         {
          "font": {},
          "showarrow": false,
          "text": "mean_absolute_error",
          "textangle": 90,
          "x": 0.98,
          "xanchor": "left",
          "xref": "paper",
          "y": 0.7575000000000001,
          "yanchor": "middle",
          "yref": "paper"
         }
        ],
        "legend": {
         "title": {
          "text": "metric"
         },
         "tracegroupgap": 0
        },
        "margin": {
         "t": 60
        },
        "showlegend": false,
        "template": {
         "data": {
          "bar": [
           {
            "error_x": {
             "color": "#2a3f5f"
            },
            "error_y": {
             "color": "#2a3f5f"
            },
            "marker": {
             "line": {
              "color": "#E5ECF6",
              "width": 0.5
             },
             "pattern": {
              "fillmode": "overlay",
              "size": 10,
              "solidity": 0.2
             }
            },
            "type": "bar"
           }
          ],
          "barpolar": [
           {
            "marker": {
             "line": {
              "color": "#E5ECF6",
              "width": 0.5
             },
             "pattern": {
              "fillmode": "overlay",
              "size": 10,
              "solidity": 0.2
             }
            },
            "type": "barpolar"
           }
          ],
          "carpet": [
           {
            "aaxis": {
             "endlinecolor": "#2a3f5f",
             "gridcolor": "white",
             "linecolor": "white",
             "minorgridcolor": "white",
             "startlinecolor": "#2a3f5f"
            },
            "baxis": {
             "endlinecolor": "#2a3f5f",
             "gridcolor": "white",
             "linecolor": "white",
             "minorgridcolor": "white",
             "startlinecolor": "#2a3f5f"
            },
            "type": "carpet"
           }
          ],
          "choropleth": [
           {
            "colorbar": {
             "outlinewidth": 0,
             "ticks": ""
            },
            "type": "choropleth"
           }
          ],
          "contour": [
           {
            "colorbar": {
             "outlinewidth": 0,
             "ticks": ""
            },
            "colorscale": [
             [
              0,
              "#0d0887"
             ],
             [
              0.1111111111111111,
              "#46039f"
             ],
             [
              0.2222222222222222,
              "#7201a8"
             ],
             [
              0.3333333333333333,
              "#9c179e"
             ],
             [
              0.4444444444444444,
              "#bd3786"
             ],
             [
              0.5555555555555556,
              "#d8576b"
             ],
             [
              0.6666666666666666,
              "#ed7953"
             ],
             [
              0.7777777777777778,
              "#fb9f3a"
             ],
             [
              0.8888888888888888,
              "#fdca26"
             ],
             [
              1,
              "#f0f921"
             ]
            ],
            "type": "contour"
           }
          ],
          "contourcarpet": [
           {
            "colorbar": {
             "outlinewidth": 0,
             "ticks": ""
            },
            "type": "contourcarpet"
           }
          ],
          "heatmap": [
           {
            "colorbar": {
             "outlinewidth": 0,
             "ticks": ""
            },
            "colorscale": [
             [
              0,
              "#0d0887"
             ],
             [
              0.1111111111111111,
              "#46039f"
             ],
             [
              0.2222222222222222,
              "#7201a8"
             ],
             [
              0.3333333333333333,
              "#9c179e"
             ],
             [
              0.4444444444444444,
              "#bd3786"
             ],
             [
              0.5555555555555556,
              "#d8576b"
             ],
             [
              0.6666666666666666,
              "#ed7953"
             ],
             [
              0.7777777777777778,
              "#fb9f3a"
             ],
             [
              0.8888888888888888,
              "#fdca26"
             ],
             [
              1,
              "#f0f921"
             ]
            ],
            "type": "heatmap"
           }
          ],
          "heatmapgl": [
           {
            "colorbar": {
             "outlinewidth": 0,
             "ticks": ""
            },
            "colorscale": [
             [
              0,
              "#0d0887"
             ],
             [
              0.1111111111111111,
              "#46039f"
             ],
             [
              0.2222222222222222,
              "#7201a8"
             ],
             [
              0.3333333333333333,
              "#9c179e"
             ],
             [
              0.4444444444444444,
              "#bd3786"
             ],
             [
              0.5555555555555556,
              "#d8576b"
             ],
             [
              0.6666666666666666,
              "#ed7953"
             ],
             [
              0.7777777777777778,
              "#fb9f3a"
             ],
             [
              0.8888888888888888,
              "#fdca26"
             ],
             [
              1,
              "#f0f921"
             ]
            ],
            "type": "heatmapgl"
           }
          ],
          "histogram": [
           {
            "marker": {
             "pattern": {
              "fillmode": "overlay",
              "size": 10,
              "solidity": 0.2
             }
            },
            "type": "histogram"
           }
          ],
          "histogram2d": [
           {
            "colorbar": {
             "outlinewidth": 0,
             "ticks": ""
            },
            "colorscale": [
             [
              0,
              "#0d0887"
             ],
             [
              0.1111111111111111,
              "#46039f"
             ],
             [
              0.2222222222222222,
              "#7201a8"
             ],
             [
              0.3333333333333333,
              "#9c179e"
             ],
             [
              0.4444444444444444,
              "#bd3786"
             ],
             [
              0.5555555555555556,
              "#d8576b"
             ],
             [
              0.6666666666666666,
              "#ed7953"
             ],
             [
              0.7777777777777778,
              "#fb9f3a"
             ],
             [
              0.8888888888888888,
              "#fdca26"
             ],
             [
              1,
              "#f0f921"
             ]
            ],
            "type": "histogram2d"
           }
          ],
          "histogram2dcontour": [
           {
            "colorbar": {
             "outlinewidth": 0,
             "ticks": ""
            },
            "colorscale": [
             [
              0,
              "#0d0887"
             ],
             [
              0.1111111111111111,
              "#46039f"
             ],
             [
              0.2222222222222222,
              "#7201a8"
             ],
             [
              0.3333333333333333,
              "#9c179e"
             ],
             [
              0.4444444444444444,
              "#bd3786"
             ],
             [
              0.5555555555555556,
              "#d8576b"
             ],
             [
              0.6666666666666666,
              "#ed7953"
             ],
             [
              0.7777777777777778,
              "#fb9f3a"
             ],
             [
              0.8888888888888888,
              "#fdca26"
             ],
             [
              1,
              "#f0f921"
             ]
            ],
            "type": "histogram2dcontour"
           }
          ],
          "mesh3d": [
           {
            "colorbar": {
             "outlinewidth": 0,
             "ticks": ""
            },
            "type": "mesh3d"
           }
          ],
          "parcoords": [
           {
            "line": {
             "colorbar": {
              "outlinewidth": 0,
              "ticks": ""
             }
            },
            "type": "parcoords"
           }
          ],
          "pie": [
           {
            "automargin": true,
            "type": "pie"
           }
          ],
          "scatter": [
           {
            "fillpattern": {
             "fillmode": "overlay",
             "size": 10,
             "solidity": 0.2
            },
            "type": "scatter"
           }
          ],
          "scatter3d": [
           {
            "line": {
             "colorbar": {
              "outlinewidth": 0,
              "ticks": ""
             }
            },
            "marker": {
             "colorbar": {
              "outlinewidth": 0,
              "ticks": ""
             }
            },
            "type": "scatter3d"
           }
          ],
          "scattercarpet": [
           {
            "marker": {
             "colorbar": {
              "outlinewidth": 0,
              "ticks": ""
             }
            },
            "type": "scattercarpet"
           }
          ],
          "scattergeo": [
           {
            "marker": {
             "colorbar": {
              "outlinewidth": 0,
              "ticks": ""
             }
            },
            "type": "scattergeo"
           }
          ],
          "scattergl": [
           {
            "marker": {
             "colorbar": {
              "outlinewidth": 0,
              "ticks": ""
             }
            },
            "type": "scattergl"
           }
          ],
          "scattermapbox": [
           {
            "marker": {
             "colorbar": {
              "outlinewidth": 0,
              "ticks": ""
             }
            },
            "type": "scattermapbox"
           }
          ],
          "scatterpolar": [
           {
            "marker": {
             "colorbar": {
              "outlinewidth": 0,
              "ticks": ""
             }
            },
            "type": "scatterpolar"
           }
          ],
          "scatterpolargl": [
           {
            "marker": {
             "colorbar": {
              "outlinewidth": 0,
              "ticks": ""
             }
            },
            "type": "scatterpolargl"
           }
          ],
          "scatterternary": [
           {
            "marker": {
             "colorbar": {
              "outlinewidth": 0,
              "ticks": ""
             }
            },
            "type": "scatterternary"
           }
          ],
          "surface": [
           {
            "colorbar": {
             "outlinewidth": 0,
             "ticks": ""
            },
            "colorscale": [
             [
              0,
              "#0d0887"
             ],
             [
              0.1111111111111111,
              "#46039f"
             ],
             [
              0.2222222222222222,
              "#7201a8"
             ],
             [
              0.3333333333333333,
              "#9c179e"
             ],
             [
              0.4444444444444444,
              "#bd3786"
             ],
             [
              0.5555555555555556,
              "#d8576b"
             ],
             [
              0.6666666666666666,
              "#ed7953"
             ],
             [
              0.7777777777777778,
              "#fb9f3a"
             ],
             [
              0.8888888888888888,
              "#fdca26"
             ],
             [
              1,
              "#f0f921"
             ]
            ],
            "type": "surface"
           }
          ],
          "table": [
           {
            "cells": {
             "fill": {
              "color": "#EBF0F8"
             },
             "line": {
              "color": "white"
             }
            },
            "header": {
             "fill": {
              "color": "#C8D4E3"
             },
             "line": {
              "color": "white"
             }
            },
            "type": "table"
           }
          ]
         },
         "layout": {
          "annotationdefaults": {
           "arrowcolor": "#2a3f5f",
           "arrowhead": 0,
           "arrowwidth": 1
          },
          "autotypenumbers": "strict",
          "coloraxis": {
           "colorbar": {
            "outlinewidth": 0,
            "ticks": ""
           }
          },
          "colorscale": {
           "diverging": [
            [
             0,
             "#8e0152"
            ],
            [
             0.1,
             "#c51b7d"
            ],
            [
             0.2,
             "#de77ae"
            ],
            [
             0.3,
             "#f1b6da"
            ],
            [
             0.4,
             "#fde0ef"
            ],
            [
             0.5,
             "#f7f7f7"
            ],
            [
             0.6,
             "#e6f5d0"
            ],
            [
             0.7,
             "#b8e186"
            ],
            [
             0.8,
             "#7fbc41"
            ],
            [
             0.9,
             "#4d9221"
            ],
            [
             1,
             "#276419"
            ]
           ],
           "sequential": [
            [
             0,
             "#0d0887"
            ],
            [
             0.1111111111111111,
             "#46039f"
            ],
            [
             0.2222222222222222,
             "#7201a8"
            ],
            [
             0.3333333333333333,
             "#9c179e"
            ],
            [
             0.4444444444444444,
             "#bd3786"
            ],
            [
             0.5555555555555556,
             "#d8576b"
            ],
            [
             0.6666666666666666,
             "#ed7953"
            ],
            [
             0.7777777777777778,
             "#fb9f3a"
            ],
            [
             0.8888888888888888,
             "#fdca26"
            ],
            [
             1,
             "#f0f921"
            ]
           ],
           "sequentialminus": [
            [
             0,
             "#0d0887"
            ],
            [
             0.1111111111111111,
             "#46039f"
            ],
            [
             0.2222222222222222,
             "#7201a8"
            ],
            [
             0.3333333333333333,
             "#9c179e"
            ],
            [
             0.4444444444444444,
             "#bd3786"
            ],
            [
             0.5555555555555556,
             "#d8576b"
            ],
            [
             0.6666666666666666,
             "#ed7953"
            ],
            [
             0.7777777777777778,
             "#fb9f3a"
            ],
            [
             0.8888888888888888,
             "#fdca26"
            ],
            [
             1,
             "#f0f921"
            ]
           ]
          },
          "colorway": [
           "#636efa",
           "#EF553B",
           "#00cc96",
           "#ab63fa",
           "#FFA15A",
           "#19d3f3",
           "#FF6692",
           "#B6E880",
           "#FF97FF",
           "#FECB52"
          ],
          "font": {
           "color": "#2a3f5f"
          },
          "geo": {
           "bgcolor": "white",
           "lakecolor": "white",
           "landcolor": "#E5ECF6",
           "showlakes": true,
           "showland": true,
           "subunitcolor": "white"
          },
          "hoverlabel": {
           "align": "left"
          },
          "hovermode": "closest",
          "mapbox": {
           "style": "light"
          },
          "paper_bgcolor": "white",
          "plot_bgcolor": "#E5ECF6",
          "polar": {
           "angularaxis": {
            "gridcolor": "white",
            "linecolor": "white",
            "ticks": ""
           },
           "bgcolor": "#E5ECF6",
           "radialaxis": {
            "gridcolor": "white",
            "linecolor": "white",
            "ticks": ""
           }
          },
          "scene": {
           "xaxis": {
            "backgroundcolor": "#E5ECF6",
            "gridcolor": "white",
            "gridwidth": 2,
            "linecolor": "white",
            "showbackground": true,
            "ticks": "",
            "zerolinecolor": "white"
           },
           "yaxis": {
            "backgroundcolor": "#E5ECF6",
            "gridcolor": "white",
            "gridwidth": 2,
            "linecolor": "white",
            "showbackground": true,
            "ticks": "",
            "zerolinecolor": "white"
           },
           "zaxis": {
            "backgroundcolor": "#E5ECF6",
            "gridcolor": "white",
            "gridwidth": 2,
            "linecolor": "white",
            "showbackground": true,
            "ticks": "",
            "zerolinecolor": "white"
           }
          },
          "shapedefaults": {
           "line": {
            "color": "#2a3f5f"
           }
          },
          "ternary": {
           "aaxis": {
            "gridcolor": "white",
            "linecolor": "white",
            "ticks": ""
           },
           "baxis": {
            "gridcolor": "white",
            "linecolor": "white",
            "ticks": ""
           },
           "bgcolor": "#E5ECF6",
           "caxis": {
            "gridcolor": "white",
            "linecolor": "white",
            "ticks": ""
           }
          },
          "title": {
           "x": 0.05
          },
          "xaxis": {
           "automargin": true,
           "gridcolor": "white",
           "linecolor": "white",
           "ticks": "",
           "title": {
            "standoff": 15
           },
           "zerolinecolor": "white",
           "zerolinewidth": 2
          },
          "yaxis": {
           "automargin": true,
           "gridcolor": "white",
           "linecolor": "white",
           "ticks": "",
           "title": {
            "standoff": 15
           },
           "zerolinecolor": "white",
           "zerolinewidth": 2
          }
         }
        },
        "xaxis": {
         "anchor": "y",
         "domain": [
          0,
          0.98
         ],
         "title": {
          "text": "index"
         }
        },
        "xaxis2": {
         "anchor": "y2",
         "domain": [
          0,
          0.98
         ],
         "matches": "x",
         "showticklabels": false
        },
        "yaxis": {
         "anchor": "x",
         "domain": [
          0,
          0.485
         ],
         "title": {
          "text": "estimate"
         }
        },
        "yaxis2": {
         "anchor": "x2",
         "domain": [
          0.515,
          1
         ],
         "title": {
          "text": "estimate"
         }
        }
       }
      }
     },
     "metadata": {},
     "output_type": "display_data"
    }
   ],
   "source": [
    "monitor_plot = vetiver.plot_metrics(m)\n",
    "monitor_plot.update_yaxes(matches=None)\n",
    "monitor_plot.show()"
   ]
  },
  {
   "cell_type": "code",
   "execution_count": null,
   "metadata": {},
   "outputs": [],
   "source": [
    "monitor.write_html(\"images/monitor.html\")"
   ]
  }
 ],
 "metadata": {
  "interpreter": {
   "hash": "974018313955b4988b16ea215671657307c8736770f13695d4ded4c5899ccb5a"
  },
  "kernelspec": {
   "display_name": "Python 3.9.11 64-bit ('pydemo')",
   "language": "python",
   "name": "python3"
  },
  "language_info": {
   "codemirror_mode": {
    "name": "ipython",
    "version": 3
   },
   "file_extension": ".py",
   "mimetype": "text/x-python",
   "name": "python",
   "nbconvert_exporter": "python",
   "pygments_lexer": "ipython3",
   "version": "3.9.11"
  },
  "orig_nbformat": 4
 },
 "nbformat": 4,
 "nbformat_minor": 2
}
